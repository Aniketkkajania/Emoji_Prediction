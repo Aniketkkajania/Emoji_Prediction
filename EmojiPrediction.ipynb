{
  "cells": [
    {
      "cell_type": "markdown",
      "metadata": {
        "id": "view-in-github",
        "colab_type": "text"
      },
      "source": [
        "<a href=\"https://colab.research.google.com/github/Aniketkkajania/Emoji_Prediction/blob/main/EmojiPrediction.ipynb\" target=\"_parent\"><img src=\"https://colab.research.google.com/assets/colab-badge.svg\" alt=\"Open In Colab\"/></a>"
      ]
    },
    {
      "cell_type": "code",
      "execution_count": null,
      "metadata": {
        "id": "3AQSdR1oFVv-"
      },
      "outputs": [],
      "source": [
        "import pandas as pd\n",
        "import numpy as np"
      ]
    },
    {
      "cell_type": "code",
      "execution_count": null,
      "metadata": {
        "id": "hDF3aouUFiXc"
      },
      "outputs": [],
      "source": [
        "text_labels = pd.read_csv(\"Comment-Emoji Dataset.csv\")"
      ]
    },
    {
      "cell_type": "code",
      "execution_count": null,
      "metadata": {
        "id": "CyIRsvWjF83F"
      },
      "outputs": [],
      "source": [
        "text_labels = text_labels.drop(columns = \"Unnamed: 0\")"
      ]
    },
    {
      "cell_type": "code",
      "execution_count": null,
      "metadata": {
        "colab": {
          "base_uri": "https://localhost:8080/",
          "height": 424
        },
        "id": "K-HGIV5QIriS",
        "outputId": "a6a8d94c-ff16-4cc2-e4e3-9397dd38e57d"
      },
      "outputs": [
        {
          "data": {
            "text/html": [
              "\n",
              "\n",
              "  <div id=\"df-9242e314-5b75-46c7-980c-98d345c73191\">\n",
              "    <div class=\"colab-df-container\">\n",
              "      <div>\n",
              "<style scoped>\n",
              "    .dataframe tbody tr th:only-of-type {\n",
              "        vertical-align: middle;\n",
              "    }\n",
              "\n",
              "    .dataframe tbody tr th {\n",
              "        vertical-align: top;\n",
              "    }\n",
              "\n",
              "    .dataframe thead th {\n",
              "        text-align: right;\n",
              "    }\n",
              "</style>\n",
              "<table border=\"1\" class=\"dataframe\">\n",
              "  <thead>\n",
              "    <tr style=\"text-align: right;\">\n",
              "      <th></th>\n",
              "      <th>TEXT</th>\n",
              "      <th>Label</th>\n",
              "    </tr>\n",
              "  </thead>\n",
              "  <tbody>\n",
              "    <tr>\n",
              "      <th>0</th>\n",
              "      <td>Vacation wasted ! #vacation2017 #photobomb #ti...</td>\n",
              "      <td>0</td>\n",
              "    </tr>\n",
              "    <tr>\n",
              "      <th>1</th>\n",
              "      <td>Oh Wynwood, you’re so funny! : @user #Wynwood ...</td>\n",
              "      <td>1</td>\n",
              "    </tr>\n",
              "    <tr>\n",
              "      <th>2</th>\n",
              "      <td>Been friends since 7th grade. Look at us now w...</td>\n",
              "      <td>2</td>\n",
              "    </tr>\n",
              "    <tr>\n",
              "      <th>3</th>\n",
              "      <td>This is what it looks like when someone loves ...</td>\n",
              "      <td>3</td>\n",
              "    </tr>\n",
              "    <tr>\n",
              "      <th>4</th>\n",
              "      <td>RT @user this white family was invited to a Bl...</td>\n",
              "      <td>3</td>\n",
              "    </tr>\n",
              "    <tr>\n",
              "      <th>...</th>\n",
              "      <td>...</td>\n",
              "      <td>...</td>\n",
              "    </tr>\n",
              "    <tr>\n",
              "      <th>69995</th>\n",
              "      <td>Yes, I call Galina \"my Bubie\" Go follow my bea...</td>\n",
              "      <td>3</td>\n",
              "    </tr>\n",
              "    <tr>\n",
              "      <th>69996</th>\n",
              "      <td>I SEA you, Seattle @ Ballard Seafood Festival\\n</td>\n",
              "      <td>16</td>\n",
              "    </tr>\n",
              "    <tr>\n",
              "      <th>69997</th>\n",
              "      <td>If one of my daughters is wearing this and ask...</td>\n",
              "      <td>2</td>\n",
              "    </tr>\n",
              "    <tr>\n",
              "      <th>69998</th>\n",
              "      <td>Guess who whoop people on THEIR homecoming?! #...</td>\n",
              "      <td>3</td>\n",
              "    </tr>\n",
              "    <tr>\n",
              "      <th>69999</th>\n",
              "      <td>We Love you Robbie @ Heritage Memorial Cemeter...</td>\n",
              "      <td>14</td>\n",
              "    </tr>\n",
              "  </tbody>\n",
              "</table>\n",
              "<p>70000 rows × 2 columns</p>\n",
              "</div>\n",
              "      <button class=\"colab-df-convert\" onclick=\"convertToInteractive('df-9242e314-5b75-46c7-980c-98d345c73191')\"\n",
              "              title=\"Convert this dataframe to an interactive table.\"\n",
              "              style=\"display:none;\">\n",
              "\n",
              "  <svg xmlns=\"http://www.w3.org/2000/svg\" height=\"24px\"viewBox=\"0 0 24 24\"\n",
              "       width=\"24px\">\n",
              "    <path d=\"M0 0h24v24H0V0z\" fill=\"none\"/>\n",
              "    <path d=\"M18.56 5.44l.94 2.06.94-2.06 2.06-.94-2.06-.94-.94-2.06-.94 2.06-2.06.94zm-11 1L8.5 8.5l.94-2.06 2.06-.94-2.06-.94L8.5 2.5l-.94 2.06-2.06.94zm10 10l.94 2.06.94-2.06 2.06-.94-2.06-.94-.94-2.06-.94 2.06-2.06.94z\"/><path d=\"M17.41 7.96l-1.37-1.37c-.4-.4-.92-.59-1.43-.59-.52 0-1.04.2-1.43.59L10.3 9.45l-7.72 7.72c-.78.78-.78 2.05 0 2.83L4 21.41c.39.39.9.59 1.41.59.51 0 1.02-.2 1.41-.59l7.78-7.78 2.81-2.81c.8-.78.8-2.07 0-2.86zM5.41 20L4 18.59l7.72-7.72 1.47 1.35L5.41 20z\"/>\n",
              "  </svg>\n",
              "      </button>\n",
              "\n",
              "\n",
              "\n",
              "    <div id=\"df-ce7b8f2d-7884-4ac5-988d-36a87f868861\">\n",
              "      <button class=\"colab-df-quickchart\" onclick=\"quickchart('df-ce7b8f2d-7884-4ac5-988d-36a87f868861')\"\n",
              "              title=\"Suggest charts.\"\n",
              "              style=\"display:none;\">\n",
              "\n",
              "<svg xmlns=\"http://www.w3.org/2000/svg\" height=\"24px\"viewBox=\"0 0 24 24\"\n",
              "     width=\"24px\">\n",
              "    <g>\n",
              "        <path d=\"M19 3H5c-1.1 0-2 .9-2 2v14c0 1.1.9 2 2 2h14c1.1 0 2-.9 2-2V5c0-1.1-.9-2-2-2zM9 17H7v-7h2v7zm4 0h-2V7h2v10zm4 0h-2v-4h2v4z\"/>\n",
              "    </g>\n",
              "</svg>\n",
              "      </button>\n",
              "    </div>\n",
              "\n",
              "<style>\n",
              "  .colab-df-quickchart {\n",
              "    background-color: #E8F0FE;\n",
              "    border: none;\n",
              "    border-radius: 50%;\n",
              "    cursor: pointer;\n",
              "    display: none;\n",
              "    fill: #1967D2;\n",
              "    height: 32px;\n",
              "    padding: 0 0 0 0;\n",
              "    width: 32px;\n",
              "  }\n",
              "\n",
              "  .colab-df-quickchart:hover {\n",
              "    background-color: #E2EBFA;\n",
              "    box-shadow: 0px 1px 2px rgba(60, 64, 67, 0.3), 0px 1px 3px 1px rgba(60, 64, 67, 0.15);\n",
              "    fill: #174EA6;\n",
              "  }\n",
              "\n",
              "  [theme=dark] .colab-df-quickchart {\n",
              "    background-color: #3B4455;\n",
              "    fill: #D2E3FC;\n",
              "  }\n",
              "\n",
              "  [theme=dark] .colab-df-quickchart:hover {\n",
              "    background-color: #434B5C;\n",
              "    box-shadow: 0px 1px 3px 1px rgba(0, 0, 0, 0.15);\n",
              "    filter: drop-shadow(0px 1px 2px rgba(0, 0, 0, 0.3));\n",
              "    fill: #FFFFFF;\n",
              "  }\n",
              "</style>\n",
              "\n",
              "    <script>\n",
              "      async function quickchart(key) {\n",
              "        const containerElement = document.querySelector('#' + key);\n",
              "        const charts = await google.colab.kernel.invokeFunction(\n",
              "            'suggestCharts', [key], {});\n",
              "      }\n",
              "    </script>\n",
              "\n",
              "      <script>\n",
              "\n",
              "function displayQuickchartButton(domScope) {\n",
              "  let quickchartButtonEl =\n",
              "    domScope.querySelector('#df-ce7b8f2d-7884-4ac5-988d-36a87f868861 button.colab-df-quickchart');\n",
              "  quickchartButtonEl.style.display =\n",
              "    google.colab.kernel.accessAllowed ? 'block' : 'none';\n",
              "}\n",
              "\n",
              "        displayQuickchartButton(document);\n",
              "      </script>\n",
              "      <style>\n",
              "    .colab-df-container {\n",
              "      display:flex;\n",
              "      flex-wrap:wrap;\n",
              "      gap: 12px;\n",
              "    }\n",
              "\n",
              "    .colab-df-convert {\n",
              "      background-color: #E8F0FE;\n",
              "      border: none;\n",
              "      border-radius: 50%;\n",
              "      cursor: pointer;\n",
              "      display: none;\n",
              "      fill: #1967D2;\n",
              "      height: 32px;\n",
              "      padding: 0 0 0 0;\n",
              "      width: 32px;\n",
              "    }\n",
              "\n",
              "    .colab-df-convert:hover {\n",
              "      background-color: #E2EBFA;\n",
              "      box-shadow: 0px 1px 2px rgba(60, 64, 67, 0.3), 0px 1px 3px 1px rgba(60, 64, 67, 0.15);\n",
              "      fill: #174EA6;\n",
              "    }\n",
              "\n",
              "    [theme=dark] .colab-df-convert {\n",
              "      background-color: #3B4455;\n",
              "      fill: #D2E3FC;\n",
              "    }\n",
              "\n",
              "    [theme=dark] .colab-df-convert:hover {\n",
              "      background-color: #434B5C;\n",
              "      box-shadow: 0px 1px 3px 1px rgba(0, 0, 0, 0.15);\n",
              "      filter: drop-shadow(0px 1px 2px rgba(0, 0, 0, 0.3));\n",
              "      fill: #FFFFFF;\n",
              "    }\n",
              "  </style>\n",
              "\n",
              "      <script>\n",
              "        const buttonEl =\n",
              "          document.querySelector('#df-9242e314-5b75-46c7-980c-98d345c73191 button.colab-df-convert');\n",
              "        buttonEl.style.display =\n",
              "          google.colab.kernel.accessAllowed ? 'block' : 'none';\n",
              "\n",
              "        async function convertToInteractive(key) {\n",
              "          const element = document.querySelector('#df-9242e314-5b75-46c7-980c-98d345c73191');\n",
              "          const dataTable =\n",
              "            await google.colab.kernel.invokeFunction('convertToInteractive',\n",
              "                                                     [key], {});\n",
              "          if (!dataTable) return;\n",
              "\n",
              "          const docLinkHtml = 'Like what you see? Visit the ' +\n",
              "            '<a target=\"_blank\" href=https://colab.research.google.com/notebooks/data_table.ipynb>data table notebook</a>'\n",
              "            + ' to learn more about interactive tables.';\n",
              "          element.innerHTML = '';\n",
              "          dataTable['output_type'] = 'display_data';\n",
              "          await google.colab.output.renderOutput(dataTable, element);\n",
              "          const docLink = document.createElement('div');\n",
              "          docLink.innerHTML = docLinkHtml;\n",
              "          element.appendChild(docLink);\n",
              "        }\n",
              "      </script>\n",
              "    </div>\n",
              "  </div>\n"
            ],
            "text/plain": [
              "                                                    TEXT  Label\n",
              "0      Vacation wasted ! #vacation2017 #photobomb #ti...      0\n",
              "1      Oh Wynwood, you’re so funny! : @user #Wynwood ...      1\n",
              "2      Been friends since 7th grade. Look at us now w...      2\n",
              "3      This is what it looks like when someone loves ...      3\n",
              "4      RT @user this white family was invited to a Bl...      3\n",
              "...                                                  ...    ...\n",
              "69995  Yes, I call Galina \"my Bubie\" Go follow my bea...      3\n",
              "69996    I SEA you, Seattle @ Ballard Seafood Festival\\n     16\n",
              "69997  If one of my daughters is wearing this and ask...      2\n",
              "69998  Guess who whoop people on THEIR homecoming?! #...      3\n",
              "69999  We Love you Robbie @ Heritage Memorial Cemeter...     14\n",
              "\n",
              "[70000 rows x 2 columns]"
            ]
          },
          "execution_count": 5,
          "metadata": {},
          "output_type": "execute_result"
        }
      ],
      "source": [
        "text_labels"
      ]
    },
    {
      "cell_type": "code",
      "execution_count": null,
      "metadata": {
        "id": "bcOwOuKRvvEG"
      },
      "outputs": [],
      "source": [
        "import string\n",
        "import re\n",
        "\n",
        "def data_clean(tweet):\n",
        "    tweet = str(tweet).lower()\n",
        "    rm_mention = re.sub(r'@[A-Za-z0-9]+', '', tweet)                       # remove @mentions\n",
        "    rm_rt = re.sub(r'RT[/s]+', '', rm_mention)                             # remove RT\n",
        "    rm_links = re.sub(r'http\\S+', '', rm_rt)                               # remove hyperlinks\n",
        "    rm_links = re.sub(r'https?:\\/\\/\\S+','', rm_links)\n",
        "    rm_nums = re.sub('[0-9]+', '', rm_links)                               # remove numbers\n",
        "    rm_punc = [char for char in rm_nums if char not in string.punctuation] # remove punctuations\n",
        "    rm_punc = ''.join(rm_punc)\n",
        "    cleaned = rm_punc\n",
        "\n",
        "    return cleaned"
      ]
    },
    {
      "cell_type": "code",
      "execution_count": null,
      "metadata": {
        "colab": {
          "base_uri": "https://localhost:8080/",
          "height": 206
        },
        "id": "gV14cjJ_RJP5",
        "outputId": "c6b77333-fd2d-4a59-8aff-a32073509443"
      },
      "outputs": [
        {
          "data": {
            "text/html": [
              "\n",
              "\n",
              "  <div id=\"df-29bc5545-61bc-4c2b-b879-a205b3fe6176\">\n",
              "    <div class=\"colab-df-container\">\n",
              "      <div>\n",
              "<style scoped>\n",
              "    .dataframe tbody tr th:only-of-type {\n",
              "        vertical-align: middle;\n",
              "    }\n",
              "\n",
              "    .dataframe tbody tr th {\n",
              "        vertical-align: top;\n",
              "    }\n",
              "\n",
              "    .dataframe thead th {\n",
              "        text-align: right;\n",
              "    }\n",
              "</style>\n",
              "<table border=\"1\" class=\"dataframe\">\n",
              "  <thead>\n",
              "    <tr style=\"text-align: right;\">\n",
              "      <th></th>\n",
              "      <th>TEXT</th>\n",
              "      <th>Label</th>\n",
              "    </tr>\n",
              "  </thead>\n",
              "  <tbody>\n",
              "    <tr>\n",
              "      <th>0</th>\n",
              "      <td>vacation wasted  vacation photobomb tired vaca...</td>\n",
              "      <td>0</td>\n",
              "    </tr>\n",
              "    <tr>\n",
              "      <th>1</th>\n",
              "      <td>oh wynwood you’re so funny   wynwood art itwas...</td>\n",
              "      <td>1</td>\n",
              "    </tr>\n",
              "    <tr>\n",
              "      <th>2</th>\n",
              "      <td>been friends since th grade look at us now we ...</td>\n",
              "      <td>2</td>\n",
              "    </tr>\n",
              "    <tr>\n",
              "      <th>3</th>\n",
              "      <td>this is what it looks like when someone loves ...</td>\n",
              "      <td>3</td>\n",
              "    </tr>\n",
              "    <tr>\n",
              "      <th>4</th>\n",
              "      <td>rt  this white family was invited to a black b...</td>\n",
              "      <td>3</td>\n",
              "    </tr>\n",
              "  </tbody>\n",
              "</table>\n",
              "</div>\n",
              "      <button class=\"colab-df-convert\" onclick=\"convertToInteractive('df-29bc5545-61bc-4c2b-b879-a205b3fe6176')\"\n",
              "              title=\"Convert this dataframe to an interactive table.\"\n",
              "              style=\"display:none;\">\n",
              "\n",
              "  <svg xmlns=\"http://www.w3.org/2000/svg\" height=\"24px\"viewBox=\"0 0 24 24\"\n",
              "       width=\"24px\">\n",
              "    <path d=\"M0 0h24v24H0V0z\" fill=\"none\"/>\n",
              "    <path d=\"M18.56 5.44l.94 2.06.94-2.06 2.06-.94-2.06-.94-.94-2.06-.94 2.06-2.06.94zm-11 1L8.5 8.5l.94-2.06 2.06-.94-2.06-.94L8.5 2.5l-.94 2.06-2.06.94zm10 10l.94 2.06.94-2.06 2.06-.94-2.06-.94-.94-2.06-.94 2.06-2.06.94z\"/><path d=\"M17.41 7.96l-1.37-1.37c-.4-.4-.92-.59-1.43-.59-.52 0-1.04.2-1.43.59L10.3 9.45l-7.72 7.72c-.78.78-.78 2.05 0 2.83L4 21.41c.39.39.9.59 1.41.59.51 0 1.02-.2 1.41-.59l7.78-7.78 2.81-2.81c.8-.78.8-2.07 0-2.86zM5.41 20L4 18.59l7.72-7.72 1.47 1.35L5.41 20z\"/>\n",
              "  </svg>\n",
              "      </button>\n",
              "\n",
              "\n",
              "\n",
              "    <div id=\"df-685bff97-197e-4602-8a3d-01784bdba864\">\n",
              "      <button class=\"colab-df-quickchart\" onclick=\"quickchart('df-685bff97-197e-4602-8a3d-01784bdba864')\"\n",
              "              title=\"Suggest charts.\"\n",
              "              style=\"display:none;\">\n",
              "\n",
              "<svg xmlns=\"http://www.w3.org/2000/svg\" height=\"24px\"viewBox=\"0 0 24 24\"\n",
              "     width=\"24px\">\n",
              "    <g>\n",
              "        <path d=\"M19 3H5c-1.1 0-2 .9-2 2v14c0 1.1.9 2 2 2h14c1.1 0 2-.9 2-2V5c0-1.1-.9-2-2-2zM9 17H7v-7h2v7zm4 0h-2V7h2v10zm4 0h-2v-4h2v4z\"/>\n",
              "    </g>\n",
              "</svg>\n",
              "      </button>\n",
              "    </div>\n",
              "\n",
              "<style>\n",
              "  .colab-df-quickchart {\n",
              "    background-color: #E8F0FE;\n",
              "    border: none;\n",
              "    border-radius: 50%;\n",
              "    cursor: pointer;\n",
              "    display: none;\n",
              "    fill: #1967D2;\n",
              "    height: 32px;\n",
              "    padding: 0 0 0 0;\n",
              "    width: 32px;\n",
              "  }\n",
              "\n",
              "  .colab-df-quickchart:hover {\n",
              "    background-color: #E2EBFA;\n",
              "    box-shadow: 0px 1px 2px rgba(60, 64, 67, 0.3), 0px 1px 3px 1px rgba(60, 64, 67, 0.15);\n",
              "    fill: #174EA6;\n",
              "  }\n",
              "\n",
              "  [theme=dark] .colab-df-quickchart {\n",
              "    background-color: #3B4455;\n",
              "    fill: #D2E3FC;\n",
              "  }\n",
              "\n",
              "  [theme=dark] .colab-df-quickchart:hover {\n",
              "    background-color: #434B5C;\n",
              "    box-shadow: 0px 1px 3px 1px rgba(0, 0, 0, 0.15);\n",
              "    filter: drop-shadow(0px 1px 2px rgba(0, 0, 0, 0.3));\n",
              "    fill: #FFFFFF;\n",
              "  }\n",
              "</style>\n",
              "\n",
              "    <script>\n",
              "      async function quickchart(key) {\n",
              "        const containerElement = document.querySelector('#' + key);\n",
              "        const charts = await google.colab.kernel.invokeFunction(\n",
              "            'suggestCharts', [key], {});\n",
              "      }\n",
              "    </script>\n",
              "\n",
              "      <script>\n",
              "\n",
              "function displayQuickchartButton(domScope) {\n",
              "  let quickchartButtonEl =\n",
              "    domScope.querySelector('#df-685bff97-197e-4602-8a3d-01784bdba864 button.colab-df-quickchart');\n",
              "  quickchartButtonEl.style.display =\n",
              "    google.colab.kernel.accessAllowed ? 'block' : 'none';\n",
              "}\n",
              "\n",
              "        displayQuickchartButton(document);\n",
              "      </script>\n",
              "      <style>\n",
              "    .colab-df-container {\n",
              "      display:flex;\n",
              "      flex-wrap:wrap;\n",
              "      gap: 12px;\n",
              "    }\n",
              "\n",
              "    .colab-df-convert {\n",
              "      background-color: #E8F0FE;\n",
              "      border: none;\n",
              "      border-radius: 50%;\n",
              "      cursor: pointer;\n",
              "      display: none;\n",
              "      fill: #1967D2;\n",
              "      height: 32px;\n",
              "      padding: 0 0 0 0;\n",
              "      width: 32px;\n",
              "    }\n",
              "\n",
              "    .colab-df-convert:hover {\n",
              "      background-color: #E2EBFA;\n",
              "      box-shadow: 0px 1px 2px rgba(60, 64, 67, 0.3), 0px 1px 3px 1px rgba(60, 64, 67, 0.15);\n",
              "      fill: #174EA6;\n",
              "    }\n",
              "\n",
              "    [theme=dark] .colab-df-convert {\n",
              "      background-color: #3B4455;\n",
              "      fill: #D2E3FC;\n",
              "    }\n",
              "\n",
              "    [theme=dark] .colab-df-convert:hover {\n",
              "      background-color: #434B5C;\n",
              "      box-shadow: 0px 1px 3px 1px rgba(0, 0, 0, 0.15);\n",
              "      filter: drop-shadow(0px 1px 2px rgba(0, 0, 0, 0.3));\n",
              "      fill: #FFFFFF;\n",
              "    }\n",
              "  </style>\n",
              "\n",
              "      <script>\n",
              "        const buttonEl =\n",
              "          document.querySelector('#df-29bc5545-61bc-4c2b-b879-a205b3fe6176 button.colab-df-convert');\n",
              "        buttonEl.style.display =\n",
              "          google.colab.kernel.accessAllowed ? 'block' : 'none';\n",
              "\n",
              "        async function convertToInteractive(key) {\n",
              "          const element = document.querySelector('#df-29bc5545-61bc-4c2b-b879-a205b3fe6176');\n",
              "          const dataTable =\n",
              "            await google.colab.kernel.invokeFunction('convertToInteractive',\n",
              "                                                     [key], {});\n",
              "          if (!dataTable) return;\n",
              "\n",
              "          const docLinkHtml = 'Like what you see? Visit the ' +\n",
              "            '<a target=\"_blank\" href=https://colab.research.google.com/notebooks/data_table.ipynb>data table notebook</a>'\n",
              "            + ' to learn more about interactive tables.';\n",
              "          element.innerHTML = '';\n",
              "          dataTable['output_type'] = 'display_data';\n",
              "          await google.colab.output.renderOutput(dataTable, element);\n",
              "          const docLink = document.createElement('div');\n",
              "          docLink.innerHTML = docLinkHtml;\n",
              "          element.appendChild(docLink);\n",
              "        }\n",
              "      </script>\n",
              "    </div>\n",
              "  </div>\n"
            ],
            "text/plain": [
              "                                                TEXT  Label\n",
              "0  vacation wasted  vacation photobomb tired vaca...      0\n",
              "1  oh wynwood you’re so funny   wynwood art itwas...      1\n",
              "2  been friends since th grade look at us now we ...      2\n",
              "3  this is what it looks like when someone loves ...      3\n",
              "4  rt  this white family was invited to a black b...      3"
            ]
          },
          "execution_count": 7,
          "metadata": {},
          "output_type": "execute_result"
        }
      ],
      "source": [
        "text_labels['TEXT'] = text_labels[\"TEXT\"].apply(data_clean)\n",
        "text_labels[:5]"
      ]
    },
    {
      "cell_type": "code",
      "execution_count": null,
      "metadata": {
        "id": "xRrkiMh2RlOn"
      },
      "outputs": [],
      "source": [
        "import nltk\n",
        "import spacy\n",
        "from nltk.stem import WordNetLemmatizer\n",
        "\n",
        "nlp = spacy.load(\"en_core_web_sm\")\n",
        "lemmatizer = WordNetLemmatizer()\n",
        "\n",
        "def stop_words_removal(tweet, nlp=nlp, lemmatizer=lemmatizer):\n",
        "\n",
        "    stop_words = nlp.Defaults.stop_words\n",
        "    rm_stop_words_lemma = []\n",
        "\n",
        "    doc = nlp(tweet)\n",
        "    for token in doc:                                            # tokenization\n",
        "        if token.text not in stop_words and token.pos_!=\"PUNCT\":\n",
        "            lemma_word = lemmatizer.lemmatize(token.text)        # removing stop\n",
        "            rm_stop_words_lemma.append(lemma_word)               # lemmatizing words\n",
        "\n",
        "    processed = \" \".join(rm_stop_words_lemma)\n",
        "    return processed"
      ]
    },
    {
      "cell_type": "code",
      "execution_count": null,
      "metadata": {
        "colab": {
          "base_uri": "https://localhost:8080/"
        },
        "id": "o5oedYw5RpMU",
        "outputId": "f091407c-ed37-41c0-d16f-fa39a5757d84"
      },
      "outputs": [
        {
          "name": "stderr",
          "output_type": "stream",
          "text": [
            "[nltk_data] Downloading package wordnet to /root/nltk_data...\n"
          ]
        }
      ],
      "source": [
        "import nltk\n",
        "nltk.download('wordnet')\n",
        "text_labels[\"TEXT\"] = text_labels['TEXT'].apply(stop_words_removal)"
      ]
    },
    {
      "cell_type": "code",
      "execution_count": null,
      "metadata": {
        "colab": {
          "base_uri": "https://localhost:8080/",
          "height": 424
        },
        "id": "ofbkHk5xUpTh",
        "outputId": "a27b4375-09b5-40ba-dd67-a74a4533ebf0"
      },
      "outputs": [
        {
          "data": {
            "text/html": [
              "\n",
              "\n",
              "  <div id=\"df-48a9baca-2485-4884-9a18-f8a535f1f2b3\">\n",
              "    <div class=\"colab-df-container\">\n",
              "      <div>\n",
              "<style scoped>\n",
              "    .dataframe tbody tr th:only-of-type {\n",
              "        vertical-align: middle;\n",
              "    }\n",
              "\n",
              "    .dataframe tbody tr th {\n",
              "        vertical-align: top;\n",
              "    }\n",
              "\n",
              "    .dataframe thead th {\n",
              "        text-align: right;\n",
              "    }\n",
              "</style>\n",
              "<table border=\"1\" class=\"dataframe\">\n",
              "  <thead>\n",
              "    <tr style=\"text-align: right;\">\n",
              "      <th></th>\n",
              "      <th>TEXT</th>\n",
              "      <th>Label</th>\n",
              "    </tr>\n",
              "  </thead>\n",
              "  <tbody>\n",
              "    <tr>\n",
              "      <th>0</th>\n",
              "      <td>vacation wasted   vacation photobomb tired vac...</td>\n",
              "      <td>0</td>\n",
              "    </tr>\n",
              "    <tr>\n",
              "      <th>1</th>\n",
              "      <td>oh wynwood funny    wynwood art itwasam flower...</td>\n",
              "      <td>1</td>\n",
              "    </tr>\n",
              "    <tr>\n",
              "      <th>2</th>\n",
              "      <td>friend th grade look following dream love … \\n</td>\n",
              "      <td>2</td>\n",
              "    </tr>\n",
              "    <tr>\n",
              "      <th>3</th>\n",
              "      <td>look like love unconditionally oh puppy brothe...</td>\n",
              "      <td>3</td>\n",
              "    </tr>\n",
              "    <tr>\n",
              "      <th>4</th>\n",
              "      <td>rt   white family invited black barbecue ve la...</td>\n",
              "      <td>3</td>\n",
              "    </tr>\n",
              "    <tr>\n",
              "      <th>...</th>\n",
              "      <td>...</td>\n",
              "      <td>...</td>\n",
              "    </tr>\n",
              "    <tr>\n",
              "      <th>69995</th>\n",
              "      <td>yes galina bubie follow beautiful friend gali ...</td>\n",
              "      <td>3</td>\n",
              "    </tr>\n",
              "    <tr>\n",
              "      <th>69996</th>\n",
              "      <td>sea seattle   ballard seafood festival \\n</td>\n",
              "      <td>16</td>\n",
              "    </tr>\n",
              "    <tr>\n",
              "      <th>69997</th>\n",
              "      <td>daughter wearing asks ice cream wo nt \\n</td>\n",
              "      <td>2</td>\n",
              "    </tr>\n",
              "    <tr>\n",
              "      <th>69998</th>\n",
              "      <td>guess whoop people homecoming asurams   atlant...</td>\n",
              "      <td>3</td>\n",
              "    </tr>\n",
              "    <tr>\n",
              "      <th>69999</th>\n",
              "      <td>love robbie   heritage memorial cemetery llc \\n</td>\n",
              "      <td>14</td>\n",
              "    </tr>\n",
              "  </tbody>\n",
              "</table>\n",
              "<p>70000 rows × 2 columns</p>\n",
              "</div>\n",
              "      <button class=\"colab-df-convert\" onclick=\"convertToInteractive('df-48a9baca-2485-4884-9a18-f8a535f1f2b3')\"\n",
              "              title=\"Convert this dataframe to an interactive table.\"\n",
              "              style=\"display:none;\">\n",
              "\n",
              "  <svg xmlns=\"http://www.w3.org/2000/svg\" height=\"24px\"viewBox=\"0 0 24 24\"\n",
              "       width=\"24px\">\n",
              "    <path d=\"M0 0h24v24H0V0z\" fill=\"none\"/>\n",
              "    <path d=\"M18.56 5.44l.94 2.06.94-2.06 2.06-.94-2.06-.94-.94-2.06-.94 2.06-2.06.94zm-11 1L8.5 8.5l.94-2.06 2.06-.94-2.06-.94L8.5 2.5l-.94 2.06-2.06.94zm10 10l.94 2.06.94-2.06 2.06-.94-2.06-.94-.94-2.06-.94 2.06-2.06.94z\"/><path d=\"M17.41 7.96l-1.37-1.37c-.4-.4-.92-.59-1.43-.59-.52 0-1.04.2-1.43.59L10.3 9.45l-7.72 7.72c-.78.78-.78 2.05 0 2.83L4 21.41c.39.39.9.59 1.41.59.51 0 1.02-.2 1.41-.59l7.78-7.78 2.81-2.81c.8-.78.8-2.07 0-2.86zM5.41 20L4 18.59l7.72-7.72 1.47 1.35L5.41 20z\"/>\n",
              "  </svg>\n",
              "      </button>\n",
              "\n",
              "\n",
              "\n",
              "    <div id=\"df-b5bc351f-43b7-4bd7-8260-49de633d8e1b\">\n",
              "      <button class=\"colab-df-quickchart\" onclick=\"quickchart('df-b5bc351f-43b7-4bd7-8260-49de633d8e1b')\"\n",
              "              title=\"Suggest charts.\"\n",
              "              style=\"display:none;\">\n",
              "\n",
              "<svg xmlns=\"http://www.w3.org/2000/svg\" height=\"24px\"viewBox=\"0 0 24 24\"\n",
              "     width=\"24px\">\n",
              "    <g>\n",
              "        <path d=\"M19 3H5c-1.1 0-2 .9-2 2v14c0 1.1.9 2 2 2h14c1.1 0 2-.9 2-2V5c0-1.1-.9-2-2-2zM9 17H7v-7h2v7zm4 0h-2V7h2v10zm4 0h-2v-4h2v4z\"/>\n",
              "    </g>\n",
              "</svg>\n",
              "      </button>\n",
              "    </div>\n",
              "\n",
              "<style>\n",
              "  .colab-df-quickchart {\n",
              "    background-color: #E8F0FE;\n",
              "    border: none;\n",
              "    border-radius: 50%;\n",
              "    cursor: pointer;\n",
              "    display: none;\n",
              "    fill: #1967D2;\n",
              "    height: 32px;\n",
              "    padding: 0 0 0 0;\n",
              "    width: 32px;\n",
              "  }\n",
              "\n",
              "  .colab-df-quickchart:hover {\n",
              "    background-color: #E2EBFA;\n",
              "    box-shadow: 0px 1px 2px rgba(60, 64, 67, 0.3), 0px 1px 3px 1px rgba(60, 64, 67, 0.15);\n",
              "    fill: #174EA6;\n",
              "  }\n",
              "\n",
              "  [theme=dark] .colab-df-quickchart {\n",
              "    background-color: #3B4455;\n",
              "    fill: #D2E3FC;\n",
              "  }\n",
              "\n",
              "  [theme=dark] .colab-df-quickchart:hover {\n",
              "    background-color: #434B5C;\n",
              "    box-shadow: 0px 1px 3px 1px rgba(0, 0, 0, 0.15);\n",
              "    filter: drop-shadow(0px 1px 2px rgba(0, 0, 0, 0.3));\n",
              "    fill: #FFFFFF;\n",
              "  }\n",
              "</style>\n",
              "\n",
              "    <script>\n",
              "      async function quickchart(key) {\n",
              "        const containerElement = document.querySelector('#' + key);\n",
              "        const charts = await google.colab.kernel.invokeFunction(\n",
              "            'suggestCharts', [key], {});\n",
              "      }\n",
              "    </script>\n",
              "\n",
              "      <script>\n",
              "\n",
              "function displayQuickchartButton(domScope) {\n",
              "  let quickchartButtonEl =\n",
              "    domScope.querySelector('#df-b5bc351f-43b7-4bd7-8260-49de633d8e1b button.colab-df-quickchart');\n",
              "  quickchartButtonEl.style.display =\n",
              "    google.colab.kernel.accessAllowed ? 'block' : 'none';\n",
              "}\n",
              "\n",
              "        displayQuickchartButton(document);\n",
              "      </script>\n",
              "      <style>\n",
              "    .colab-df-container {\n",
              "      display:flex;\n",
              "      flex-wrap:wrap;\n",
              "      gap: 12px;\n",
              "    }\n",
              "\n",
              "    .colab-df-convert {\n",
              "      background-color: #E8F0FE;\n",
              "      border: none;\n",
              "      border-radius: 50%;\n",
              "      cursor: pointer;\n",
              "      display: none;\n",
              "      fill: #1967D2;\n",
              "      height: 32px;\n",
              "      padding: 0 0 0 0;\n",
              "      width: 32px;\n",
              "    }\n",
              "\n",
              "    .colab-df-convert:hover {\n",
              "      background-color: #E2EBFA;\n",
              "      box-shadow: 0px 1px 2px rgba(60, 64, 67, 0.3), 0px 1px 3px 1px rgba(60, 64, 67, 0.15);\n",
              "      fill: #174EA6;\n",
              "    }\n",
              "\n",
              "    [theme=dark] .colab-df-convert {\n",
              "      background-color: #3B4455;\n",
              "      fill: #D2E3FC;\n",
              "    }\n",
              "\n",
              "    [theme=dark] .colab-df-convert:hover {\n",
              "      background-color: #434B5C;\n",
              "      box-shadow: 0px 1px 3px 1px rgba(0, 0, 0, 0.15);\n",
              "      filter: drop-shadow(0px 1px 2px rgba(0, 0, 0, 0.3));\n",
              "      fill: #FFFFFF;\n",
              "    }\n",
              "  </style>\n",
              "\n",
              "      <script>\n",
              "        const buttonEl =\n",
              "          document.querySelector('#df-48a9baca-2485-4884-9a18-f8a535f1f2b3 button.colab-df-convert');\n",
              "        buttonEl.style.display =\n",
              "          google.colab.kernel.accessAllowed ? 'block' : 'none';\n",
              "\n",
              "        async function convertToInteractive(key) {\n",
              "          const element = document.querySelector('#df-48a9baca-2485-4884-9a18-f8a535f1f2b3');\n",
              "          const dataTable =\n",
              "            await google.colab.kernel.invokeFunction('convertToInteractive',\n",
              "                                                     [key], {});\n",
              "          if (!dataTable) return;\n",
              "\n",
              "          const docLinkHtml = 'Like what you see? Visit the ' +\n",
              "            '<a target=\"_blank\" href=https://colab.research.google.com/notebooks/data_table.ipynb>data table notebook</a>'\n",
              "            + ' to learn more about interactive tables.';\n",
              "          element.innerHTML = '';\n",
              "          dataTable['output_type'] = 'display_data';\n",
              "          await google.colab.output.renderOutput(dataTable, element);\n",
              "          const docLink = document.createElement('div');\n",
              "          docLink.innerHTML = docLinkHtml;\n",
              "          element.appendChild(docLink);\n",
              "        }\n",
              "      </script>\n",
              "    </div>\n",
              "  </div>\n"
            ],
            "text/plain": [
              "                                                    TEXT  Label\n",
              "0      vacation wasted   vacation photobomb tired vac...      0\n",
              "1      oh wynwood funny    wynwood art itwasam flower...      1\n",
              "2         friend th grade look following dream love … \\n      2\n",
              "3      look like love unconditionally oh puppy brothe...      3\n",
              "4      rt   white family invited black barbecue ve la...      3\n",
              "...                                                  ...    ...\n",
              "69995  yes galina bubie follow beautiful friend gali ...      3\n",
              "69996          sea seattle   ballard seafood festival \\n     16\n",
              "69997           daughter wearing asks ice cream wo nt \\n      2\n",
              "69998  guess whoop people homecoming asurams   atlant...      3\n",
              "69999    love robbie   heritage memorial cemetery llc \\n     14\n",
              "\n",
              "[70000 rows x 2 columns]"
            ]
          },
          "execution_count": 10,
          "metadata": {},
          "output_type": "execute_result"
        }
      ],
      "source": [
        "text_labels"
      ]
    },
    {
      "cell_type": "code",
      "execution_count": null,
      "metadata": {
        "colab": {
          "base_uri": "https://localhost:8080/",
          "height": 677
        },
        "id": "pqONxAnmU6h3",
        "outputId": "76a7d29d-4434-4be5-e751-de4e0808c24a"
      },
      "outputs": [
        {
          "data": {
            "text/html": [
              "\n",
              "\n",
              "  <div id=\"df-c7d46530-b02b-4eaf-b411-4b54db7b9a82\">\n",
              "    <div class=\"colab-df-container\">\n",
              "      <div>\n",
              "<style scoped>\n",
              "    .dataframe tbody tr th:only-of-type {\n",
              "        vertical-align: middle;\n",
              "    }\n",
              "\n",
              "    .dataframe tbody tr th {\n",
              "        vertical-align: top;\n",
              "    }\n",
              "\n",
              "    .dataframe thead th {\n",
              "        text-align: right;\n",
              "    }\n",
              "</style>\n",
              "<table border=\"1\" class=\"dataframe\">\n",
              "  <thead>\n",
              "    <tr style=\"text-align: right;\">\n",
              "      <th></th>\n",
              "      <th>emoticons</th>\n",
              "      <th>Label</th>\n",
              "    </tr>\n",
              "  </thead>\n",
              "  <tbody>\n",
              "    <tr>\n",
              "      <th>0</th>\n",
              "      <td>😜</td>\n",
              "      <td>0</td>\n",
              "    </tr>\n",
              "    <tr>\n",
              "      <th>1</th>\n",
              "      <td>📸</td>\n",
              "      <td>1</td>\n",
              "    </tr>\n",
              "    <tr>\n",
              "      <th>2</th>\n",
              "      <td>😍</td>\n",
              "      <td>2</td>\n",
              "    </tr>\n",
              "    <tr>\n",
              "      <th>3</th>\n",
              "      <td>😂</td>\n",
              "      <td>3</td>\n",
              "    </tr>\n",
              "    <tr>\n",
              "      <th>4</th>\n",
              "      <td>😉</td>\n",
              "      <td>4</td>\n",
              "    </tr>\n",
              "    <tr>\n",
              "      <th>5</th>\n",
              "      <td>🎄</td>\n",
              "      <td>5</td>\n",
              "    </tr>\n",
              "    <tr>\n",
              "      <th>6</th>\n",
              "      <td>📷</td>\n",
              "      <td>6</td>\n",
              "    </tr>\n",
              "    <tr>\n",
              "      <th>7</th>\n",
              "      <td>🔥</td>\n",
              "      <td>7</td>\n",
              "    </tr>\n",
              "    <tr>\n",
              "      <th>8</th>\n",
              "      <td>😘</td>\n",
              "      <td>8</td>\n",
              "    </tr>\n",
              "    <tr>\n",
              "      <th>9</th>\n",
              "      <td>❤</td>\n",
              "      <td>9</td>\n",
              "    </tr>\n",
              "    <tr>\n",
              "      <th>10</th>\n",
              "      <td>😁</td>\n",
              "      <td>10</td>\n",
              "    </tr>\n",
              "    <tr>\n",
              "      <th>11</th>\n",
              "      <td>🇺🇸</td>\n",
              "      <td>11</td>\n",
              "    </tr>\n",
              "    <tr>\n",
              "      <th>12</th>\n",
              "      <td>☀</td>\n",
              "      <td>12</td>\n",
              "    </tr>\n",
              "    <tr>\n",
              "      <th>13</th>\n",
              "      <td>✨</td>\n",
              "      <td>13</td>\n",
              "    </tr>\n",
              "    <tr>\n",
              "      <th>14</th>\n",
              "      <td>💙</td>\n",
              "      <td>14</td>\n",
              "    </tr>\n",
              "    <tr>\n",
              "      <th>15</th>\n",
              "      <td>💕</td>\n",
              "      <td>15</td>\n",
              "    </tr>\n",
              "    <tr>\n",
              "      <th>16</th>\n",
              "      <td>😎</td>\n",
              "      <td>16</td>\n",
              "    </tr>\n",
              "    <tr>\n",
              "      <th>17</th>\n",
              "      <td>😊</td>\n",
              "      <td>17</td>\n",
              "    </tr>\n",
              "    <tr>\n",
              "      <th>18</th>\n",
              "      <td>💜</td>\n",
              "      <td>18</td>\n",
              "    </tr>\n",
              "    <tr>\n",
              "      <th>19</th>\n",
              "      <td>💯</td>\n",
              "      <td>19</td>\n",
              "    </tr>\n",
              "  </tbody>\n",
              "</table>\n",
              "</div>\n",
              "      <button class=\"colab-df-convert\" onclick=\"convertToInteractive('df-c7d46530-b02b-4eaf-b411-4b54db7b9a82')\"\n",
              "              title=\"Convert this dataframe to an interactive table.\"\n",
              "              style=\"display:none;\">\n",
              "\n",
              "  <svg xmlns=\"http://www.w3.org/2000/svg\" height=\"24px\"viewBox=\"0 0 24 24\"\n",
              "       width=\"24px\">\n",
              "    <path d=\"M0 0h24v24H0V0z\" fill=\"none\"/>\n",
              "    <path d=\"M18.56 5.44l.94 2.06.94-2.06 2.06-.94-2.06-.94-.94-2.06-.94 2.06-2.06.94zm-11 1L8.5 8.5l.94-2.06 2.06-.94-2.06-.94L8.5 2.5l-.94 2.06-2.06.94zm10 10l.94 2.06.94-2.06 2.06-.94-2.06-.94-.94-2.06-.94 2.06-2.06.94z\"/><path d=\"M17.41 7.96l-1.37-1.37c-.4-.4-.92-.59-1.43-.59-.52 0-1.04.2-1.43.59L10.3 9.45l-7.72 7.72c-.78.78-.78 2.05 0 2.83L4 21.41c.39.39.9.59 1.41.59.51 0 1.02-.2 1.41-.59l7.78-7.78 2.81-2.81c.8-.78.8-2.07 0-2.86zM5.41 20L4 18.59l7.72-7.72 1.47 1.35L5.41 20z\"/>\n",
              "  </svg>\n",
              "      </button>\n",
              "\n",
              "\n",
              "\n",
              "    <div id=\"df-4c64b4b2-e050-48ab-85a5-3207714d1833\">\n",
              "      <button class=\"colab-df-quickchart\" onclick=\"quickchart('df-4c64b4b2-e050-48ab-85a5-3207714d1833')\"\n",
              "              title=\"Suggest charts.\"\n",
              "              style=\"display:none;\">\n",
              "\n",
              "<svg xmlns=\"http://www.w3.org/2000/svg\" height=\"24px\"viewBox=\"0 0 24 24\"\n",
              "     width=\"24px\">\n",
              "    <g>\n",
              "        <path d=\"M19 3H5c-1.1 0-2 .9-2 2v14c0 1.1.9 2 2 2h14c1.1 0 2-.9 2-2V5c0-1.1-.9-2-2-2zM9 17H7v-7h2v7zm4 0h-2V7h2v10zm4 0h-2v-4h2v4z\"/>\n",
              "    </g>\n",
              "</svg>\n",
              "      </button>\n",
              "    </div>\n",
              "\n",
              "<style>\n",
              "  .colab-df-quickchart {\n",
              "    background-color: #E8F0FE;\n",
              "    border: none;\n",
              "    border-radius: 50%;\n",
              "    cursor: pointer;\n",
              "    display: none;\n",
              "    fill: #1967D2;\n",
              "    height: 32px;\n",
              "    padding: 0 0 0 0;\n",
              "    width: 32px;\n",
              "  }\n",
              "\n",
              "  .colab-df-quickchart:hover {\n",
              "    background-color: #E2EBFA;\n",
              "    box-shadow: 0px 1px 2px rgba(60, 64, 67, 0.3), 0px 1px 3px 1px rgba(60, 64, 67, 0.15);\n",
              "    fill: #174EA6;\n",
              "  }\n",
              "\n",
              "  [theme=dark] .colab-df-quickchart {\n",
              "    background-color: #3B4455;\n",
              "    fill: #D2E3FC;\n",
              "  }\n",
              "\n",
              "  [theme=dark] .colab-df-quickchart:hover {\n",
              "    background-color: #434B5C;\n",
              "    box-shadow: 0px 1px 3px 1px rgba(0, 0, 0, 0.15);\n",
              "    filter: drop-shadow(0px 1px 2px rgba(0, 0, 0, 0.3));\n",
              "    fill: #FFFFFF;\n",
              "  }\n",
              "</style>\n",
              "\n",
              "    <script>\n",
              "      async function quickchart(key) {\n",
              "        const containerElement = document.querySelector('#' + key);\n",
              "        const charts = await google.colab.kernel.invokeFunction(\n",
              "            'suggestCharts', [key], {});\n",
              "      }\n",
              "    </script>\n",
              "\n",
              "      <script>\n",
              "\n",
              "function displayQuickchartButton(domScope) {\n",
              "  let quickchartButtonEl =\n",
              "    domScope.querySelector('#df-4c64b4b2-e050-48ab-85a5-3207714d1833 button.colab-df-quickchart');\n",
              "  quickchartButtonEl.style.display =\n",
              "    google.colab.kernel.accessAllowed ? 'block' : 'none';\n",
              "}\n",
              "\n",
              "        displayQuickchartButton(document);\n",
              "      </script>\n",
              "      <style>\n",
              "    .colab-df-container {\n",
              "      display:flex;\n",
              "      flex-wrap:wrap;\n",
              "      gap: 12px;\n",
              "    }\n",
              "\n",
              "    .colab-df-convert {\n",
              "      background-color: #E8F0FE;\n",
              "      border: none;\n",
              "      border-radius: 50%;\n",
              "      cursor: pointer;\n",
              "      display: none;\n",
              "      fill: #1967D2;\n",
              "      height: 32px;\n",
              "      padding: 0 0 0 0;\n",
              "      width: 32px;\n",
              "    }\n",
              "\n",
              "    .colab-df-convert:hover {\n",
              "      background-color: #E2EBFA;\n",
              "      box-shadow: 0px 1px 2px rgba(60, 64, 67, 0.3), 0px 1px 3px 1px rgba(60, 64, 67, 0.15);\n",
              "      fill: #174EA6;\n",
              "    }\n",
              "\n",
              "    [theme=dark] .colab-df-convert {\n",
              "      background-color: #3B4455;\n",
              "      fill: #D2E3FC;\n",
              "    }\n",
              "\n",
              "    [theme=dark] .colab-df-convert:hover {\n",
              "      background-color: #434B5C;\n",
              "      box-shadow: 0px 1px 3px 1px rgba(0, 0, 0, 0.15);\n",
              "      filter: drop-shadow(0px 1px 2px rgba(0, 0, 0, 0.3));\n",
              "      fill: #FFFFFF;\n",
              "    }\n",
              "  </style>\n",
              "\n",
              "      <script>\n",
              "        const buttonEl =\n",
              "          document.querySelector('#df-c7d46530-b02b-4eaf-b411-4b54db7b9a82 button.colab-df-convert');\n",
              "        buttonEl.style.display =\n",
              "          google.colab.kernel.accessAllowed ? 'block' : 'none';\n",
              "\n",
              "        async function convertToInteractive(key) {\n",
              "          const element = document.querySelector('#df-c7d46530-b02b-4eaf-b411-4b54db7b9a82');\n",
              "          const dataTable =\n",
              "            await google.colab.kernel.invokeFunction('convertToInteractive',\n",
              "                                                     [key], {});\n",
              "          if (!dataTable) return;\n",
              "\n",
              "          const docLinkHtml = 'Like what you see? Visit the ' +\n",
              "            '<a target=\"_blank\" href=https://colab.research.google.com/notebooks/data_table.ipynb>data table notebook</a>'\n",
              "            + ' to learn more about interactive tables.';\n",
              "          element.innerHTML = '';\n",
              "          dataTable['output_type'] = 'display_data';\n",
              "          await google.colab.output.renderOutput(dataTable, element);\n",
              "          const docLink = document.createElement('div');\n",
              "          docLink.innerHTML = docLinkHtml;\n",
              "          element.appendChild(docLink);\n",
              "        }\n",
              "      </script>\n",
              "    </div>\n",
              "  </div>\n"
            ],
            "text/plain": [
              "   emoticons  Label\n",
              "0          😜      0\n",
              "1          📸      1\n",
              "2          😍      2\n",
              "3          😂      3\n",
              "4          😉      4\n",
              "5          🎄      5\n",
              "6          📷      6\n",
              "7          🔥      7\n",
              "8          😘      8\n",
              "9          ❤      9\n",
              "10         😁     10\n",
              "11        🇺🇸     11\n",
              "12         ☀     12\n",
              "13         ✨     13\n",
              "14         💙     14\n",
              "15         💕     15\n",
              "16         😎     16\n",
              "17         😊     17\n",
              "18         💜     18\n",
              "19         💯     19"
            ]
          },
          "execution_count": 29,
          "metadata": {},
          "output_type": "execute_result"
        }
      ],
      "source": [
        "emoji_labels = pd.read_csv(\"emoji-mapping.csv\")\n",
        "emoji_labels = emoji_labels.rename(columns = {\"number\": \"Label\"})\n",
        "emoji_labels = emoji_labels.drop(columns = \"Unnamed: 0\")\n",
        "emoji_labels"
      ]
    },
    {
      "cell_type": "code",
      "execution_count": null,
      "metadata": {
        "id": "Ra0xijxrv6Zt"
      },
      "outputs": [],
      "source": [
        "emoji_data = emoji_labels['emoticons'].to_dict()"
      ]
    },
    {
      "cell_type": "markdown",
      "metadata": {
        "id": "mPP8eWbqaSmE"
      },
      "source": [
        "## Over Sampling the Data"
      ]
    },
    {
      "cell_type": "code",
      "execution_count": null,
      "metadata": {
        "id": "iCSdbypTaPa2"
      },
      "outputs": [],
      "source": [
        "X = text_labels[\"TEXT\"].values\n",
        "y = text_labels[\"Label\"].values"
      ]
    },
    {
      "cell_type": "code",
      "execution_count": null,
      "metadata": {
        "id": "K1STklPOaPez"
      },
      "outputs": [],
      "source": [
        "from imblearn.over_sampling import RandomOverSampler\n",
        "\n",
        "os = RandomOverSampler()\n",
        "X = X.reshape(-1,1)\n",
        "X, y = os.fit_resample(X, y)"
      ]
    },
    {
      "cell_type": "code",
      "execution_count": null,
      "metadata": {
        "colab": {
          "base_uri": "https://localhost:8080/"
        },
        "id": "rdwbryhXaPhx",
        "outputId": "33825585-e5a6-4cd9-e66c-a2562f9922b4"
      },
      "outputs": [
        {
          "data": {
            "text/plain": [
              "(301820,)"
            ]
          },
          "execution_count": 23,
          "metadata": {},
          "output_type": "execute_result"
        }
      ],
      "source": [
        "X = X.reshape(-1,)\n",
        "X.shape"
      ]
    },
    {
      "cell_type": "markdown",
      "metadata": {
        "id": "igOD5vxQasq5"
      },
      "source": [
        "# **Tokenization**"
      ]
    },
    {
      "cell_type": "code",
      "execution_count": null,
      "metadata": {
        "id": "okAEz7eSaPlj"
      },
      "outputs": [],
      "source": [
        "from keras.preprocessing.text import Tokenizer\n",
        "\n",
        "tokenizer = Tokenizer(num_words=80000)\n",
        "tokenizer.fit_on_texts(X)"
      ]
    },
    {
      "cell_type": "code",
      "execution_count": null,
      "metadata": {
        "colab": {
          "base_uri": "https://localhost:8080/"
        },
        "id": "qhfAupm_U6k8",
        "outputId": "9635515c-292e-4ba2-e93f-306dd6fa009d"
      },
      "outputs": [
        {
          "name": "stdout",
          "output_type": "stream",
          "text": [
            "Text \n",
            " ['vacation wasted   vacation photobomb tired vacationwasted mcgar miami   port \\n'\n",
            " 'oh wynwood funny    wynwood art itwasam flower vibe   wynwood \\n'\n",
            " 'friend th grade look following dream love … \\n'\n",
            " 'look like love unconditionally oh puppy brother htx \\n'\n",
            " 'rt   white family invited black barbecue ve laughed hard life \\n'\n",
            " 'track season   m ready ya   university incarnate word \\n'\n",
            " 'merry christmas filthy little animal wearing   ugly sweater featuring santa … \\n'\n",
            " 'westenders   lazznation   weston toronto \\n'\n",
            " 'maxwell head home   summa akron city hospital \\n'\n",
            " 'story saturday   collins ave miami beach fl   lady contact join … \\n'] \n",
            "\n",
            "Sequences\n"
          ]
        },
        {
          "data": {
            "text/plain": [
              "[[361, 4625, 361, 4408, 1528, 13497, 13498, 61, 1093],\n",
              " [149, 954, 613, 954, 72, 30359, 742, 230, 954],\n",
              " [23, 49, 1763, 44, 2472, 206, 3, 1],\n",
              " [44, 18, 3, 11526, 149, 721, 228, 4626],\n",
              " [1222, 168, 36, 5801, 311, 4948, 113, 6529, 243, 34],\n",
              " [871, 143, 16, 88, 193, 27, 12419, 430],\n",
              " [65, 9, 2875, 29, 773, 653, 1010, 1017, 1219, 208, 1],\n",
              " [19301, 19302, 3890, 201],\n",
              " [7099, 378, 50, 4258, 3107, 22, 1011],\n",
              " [602, 107, 2916, 1118, 61, 11, 299, 134, 1812, 472, 1]]"
            ]
          },
          "execution_count": 15,
          "metadata": {},
          "output_type": "execute_result"
        }
      ],
      "source": [
        "print(\"Text \\n\",X[:10],'\\n')\n",
        "\n",
        "X_seqs = tokenizer.texts_to_sequences(X)\n",
        "print(\"Sequences\")\n",
        "X_seqs[:10]"
      ]
    },
    {
      "cell_type": "code",
      "execution_count": null,
      "metadata": {
        "colab": {
          "base_uri": "https://localhost:8080/"
        },
        "id": "EbmBNCALa4S4",
        "outputId": "244aca32-534b-4ee7-ef1b-4531a66bf423"
      },
      "outputs": [
        {
          "name": "stdout",
          "output_type": "stream",
          "text": [
            "Word Mappings\n",
            "\n",
            "Index:  1 ----> …\n",
            "Index:  2 ----> new\n",
            "Index:  3 ----> love\n",
            "Index:  4 ----> day\n",
            "Index:  5 ----> ️\n",
            "Index:  6 ----> happy\n",
            "Index:  7 ----> amp\n",
            "Index:  8 ----> nt\n",
            "Index:  9 ----> christmas\n"
          ]
        }
      ],
      "source": [
        "idx2words = tokenizer.index_word\n",
        "\n",
        "print(\"Word Mappings\\n\")\n",
        "for i in range(1,10):\n",
        "    print(\"Index: \",i, \"---->\",idx2words[i])"
      ]
    },
    {
      "cell_type": "code",
      "execution_count": null,
      "metadata": {
        "colab": {
          "base_uri": "https://localhost:8080/"
        },
        "id": "r9UQPBuVa4Vo",
        "outputId": "1e80dd6f-3af2-4da9-b9f6-cd1dd4598dfa"
      },
      "outputs": [
        {
          "name": "stdout",
          "output_type": "stream",
          "text": [
            "Vocabulary size : 74090\n"
          ]
        }
      ],
      "source": [
        "vocab_size = len(tokenizer.index_word)\n",
        "print(\"Vocabulary size :\",len(tokenizer.index_word))"
      ]
    },
    {
      "cell_type": "code",
      "execution_count": null,
      "metadata": {
        "colab": {
          "base_uri": "https://localhost:8080/",
          "height": 430
        },
        "id": "S5eIcc4ya4YY",
        "outputId": "9fc923a5-23f2-44dd-d45b-d4d7a1463659"
      },
      "outputs": [
        {
          "data": {
            "image/png": "[encoded data removed]",
            "text/plain": [
              "<Figure size 640x480 with 1 Axes>"
            ]
          },
          "metadata": {},
          "output_type": "display_data"
        }
      ],
      "source": [
        "import seaborn as sns\n",
        "import matplotlib.pyplot as plt\n",
        "lens = [len(seq) for seq in X_seqs]\n",
        "sns.countplot(x=lens)\n",
        "plt.show()"
      ]
    },
    {
      "cell_type": "code",
      "execution_count": null,
      "metadata": {
        "id": "HE-8Nchga4bG"
      },
      "outputs": [],
      "source": [
        "from keras.utils import pad_sequences\n",
        "\n",
        "max_len=40\n",
        "X_seqs_pd = pad_sequences(X_seqs, truncating=\"pre\", padding=\"pre\", maxlen=max_len)"
      ]
    },
    {
      "cell_type": "code",
      "execution_count": null,
      "metadata": {
        "colab": {
          "base_uri": "https://localhost:8080/"
        },
        "id": "XBTPGZxJa4eg",
        "outputId": "e2e2da31-0965-4ebf-80eb-e00065380999"
      },
      "outputs": [
        {
          "name": "stdout",
          "output_type": "stream",
          "text": [
            "Before Padding\n",
            "[[361, 4625, 361, 4408, 1528, 13497, 13498, 61, 1093]]\n",
            "\n",
            "After Padding\n",
            "[[    0     0     0     0     0     0     0     0     0     0     0     0\n",
            "      0     0     0     0     0     0     0     0     0     0     0     0\n",
            "      0     0     0     0     0     0     0   361  4625   361  4408  1528\n",
            "  13497 13498    61  1093]]\n"
          ]
        }
      ],
      "source": [
        "print(\"Before Padding\")\n",
        "print(X_seqs[:1])\n",
        "\n",
        "print(\"\\nAfter Padding\")\n",
        "print(X_seqs_pd[:1])"
      ]
    },
    {
      "cell_type": "code",
      "execution_count": null,
      "metadata": {
        "colab": {
          "base_uri": "https://localhost:8080/",
          "height": 430
        },
        "id": "pj132e4ubgoz",
        "outputId": "d23b5207-078b-4b99-aa3d-32002e8a0670"
      },
      "outputs": [
        {
          "data": {
            "image/png": "[encoded data removed]",
            "text/plain": [
              "<Figure size 640x480 with 1 Axes>"
            ]
          },
          "metadata": {},
          "output_type": "display_data"
        }
      ],
      "source": [
        "lens = [len(seq) for seq in X_seqs_pd]\n",
        "sns.countplot(x=lens)\n",
        "plt.show()"
      ]
    },
    {
      "cell_type": "markdown",
      "metadata": {
        "id": "2gMjjTOebn4f"
      },
      "source": [
        "# **Train Test Split**"
      ]
    },
    {
      "cell_type": "code",
      "execution_count": null,
      "metadata": {
        "colab": {
          "base_uri": "https://localhost:8080/"
        },
        "id": "gN99Yy7Dbpmn",
        "outputId": "0e20458b-2431-4a36-a37a-22e8097cbbb5"
      },
      "outputs": [
        {
          "name": "stdout",
          "output_type": "stream",
          "text": [
            "Training X Dim  (211274, 40)\n",
            "Training y Dim  (211274,)\n",
            "Test X Dim  (90546, 40)\n",
            "Test y Dim  (90546,)\n"
          ]
        }
      ],
      "source": [
        "from sklearn.model_selection import train_test_split\n",
        "\n",
        "X_train, X_test ,y_train, y_test = train_test_split(X_seqs_pd, y, test_size=0.3, random_state=105)\n",
        "print(\"Training X Dim \",X_train.shape)\n",
        "print(\"Training y Dim \",y_train.shape)\n",
        "\n",
        "print(\"Test X Dim \",X_test.shape)\n",
        "print(\"Test y Dim \",y_test.shape)"
      ]
    },
    {
      "cell_type": "markdown",
      "metadata": {
        "id": "LOTkcGdFbyUS"
      },
      "source": [
        "# **Deep Learning Model using LSTMs**"
      ]
    },
    {
      "cell_type": "code",
      "execution_count": null,
      "metadata": {
        "colab": {
          "base_uri": "https://localhost:8080/"
        },
        "id": "7vAeggrTbi60",
        "outputId": "ebdff26f-1569-46c4-99f8-075d4684a4b8"
      },
      "outputs": [
        {
          "name": "stdout",
          "output_type": "stream",
          "text": [
            "Model: \"sequential\"\n",
            "_________________________________________________________________\n",
            " Layer (type)                Output Shape              Param #   \n",
            "=================================================================\n",
            " embedding (Embedding)       (None, 40, 20)            1481820   \n",
            "                                                                 \n",
            " lstm (LSTM)                 (None, 40, 80)            32320     \n",
            "                                                                 \n",
            " dropout (Dropout)           (None, 40, 80)            0         \n",
            "                                                                 \n",
            " lstm_1 (LSTM)               (None, 40)                19360     \n",
            "                                                                 \n",
            " dropout_1 (Dropout)         (None, 40)                0         \n",
            "                                                                 \n",
            " dense (Dense)               (None, 20)                820       \n",
            "                                                                 \n",
            "=================================================================\n",
            "Total params: 1,534,320\n",
            "Trainable params: 1,534,320\n",
            "Non-trainable params: 0\n",
            "_________________________________________________________________\n"
          ]
        }
      ],
      "source": [
        "from keras.models import Sequential\n",
        "from keras.layers import Dropout, Dense, LSTM, Bidirectional,Embedding, GlobalMaxPool1D\n",
        "\n",
        "\n",
        "\n",
        "vocabulary_size = vocab_size\n",
        "seq_len = 40\n",
        "embed_len=20\n",
        "\n",
        "model = Sequential()\n",
        "model.add(Embedding(vocabulary_size+1, embed_len, input_length=seq_len))\n",
        "model.add(LSTM(units = 80, return_sequences=True))\n",
        "model.add(Dropout(0.5))\n",
        "model.add(LSTM(units = 40))\n",
        "model.add(Dropout(0.5))\n",
        "model.add(Dense(units=20, activation='softmax'))\n",
        "model.summary()"
      ]
    },
    {
      "cell_type": "code",
      "execution_count": null,
      "metadata": {
        "id": "LNMXzPd8bi9L"
      },
      "outputs": [],
      "source": [
        "from tensorflow.keras.callbacks import EarlyStopping\n",
        "\n",
        "early_stop = EarlyStopping(monitor=\"val_loss\", mode=\"min\", patience=1,verbose=1)\n",
        "\n",
        "model.compile(loss = 'categorical_crossentropy',\n",
        "             optimizer = \"adam\",\n",
        "             metrics=[\"accuracy\"])"
      ]
    },
    {
      "cell_type": "code",
      "execution_count": null,
      "metadata": {
        "id": "IRFagQbUbjAH"
      },
      "outputs": [],
      "source": [
        "from keras.utils import to_categorical\n",
        "\n",
        "y_train_cat = to_categorical(y_train)\n",
        "y_test_cat = to_categorical(y_test)"
      ]
    },
    {
      "cell_type": "code",
      "execution_count": null,
      "metadata": {
        "colab": {
          "base_uri": "https://localhost:8080/"
        },
        "id": "50Yq1qo1bjC3",
        "outputId": "40dcef8b-b6d2-4c94-8026-c99852263387"
      },
      "outputs": [
        {
          "name": "stdout",
          "output_type": "stream",
          "text": [
            "Epoch 1/20\n",
            "1651/1651 [==============================] - 55s 28ms/step - loss: 2.3201 - accuracy: 0.2886 - val_loss: 1.6801 - val_accuracy: 0.5169\n",
            "Epoch 2/20\n",
            "1651/1651 [==============================] - 19s 11ms/step - loss: 1.3955 - accuracy: 0.6124 - val_loss: 1.1271 - val_accuracy: 0.6919\n",
            "Epoch 3/20\n",
            "1651/1651 [==============================] - 16s 10ms/step - loss: 0.9850 - accuracy: 0.7370 - val_loss: 0.9312 - val_accuracy: 0.7535\n",
            "Epoch 4/20\n",
            "1651/1651 [==============================] - 19s 12ms/step - loss: 0.7867 - accuracy: 0.7887 - val_loss: 0.8148 - val_accuracy: 0.7847\n",
            "Epoch 5/20\n",
            "1651/1651 [==============================] - 17s 10ms/step - loss: 0.6617 - accuracy: 0.8221 - val_loss: 0.7649 - val_accuracy: 0.8059\n",
            "Epoch 6/20\n",
            "1651/1651 [==============================] - 18s 11ms/step - loss: 0.5746 - accuracy: 0.8453 - val_loss: 0.7180 - val_accuracy: 0.8198\n",
            "Epoch 7/20\n",
            "1651/1651 [==============================] - 16s 10ms/step - loss: 0.5095 - accuracy: 0.8629 - val_loss: 0.6768 - val_accuracy: 0.8328\n",
            "Epoch 8/20\n",
            "1651/1651 [==============================] - 17s 10ms/step - loss: 0.4608 - accuracy: 0.8762 - val_loss: 0.6631 - val_accuracy: 0.8426\n",
            "Epoch 9/20\n",
            "1651/1651 [==============================] - 17s 10ms/step - loss: 0.4221 - accuracy: 0.8863 - val_loss: 0.6495 - val_accuracy: 0.8497\n",
            "Epoch 10/20\n",
            "1651/1651 [==============================] - 16s 10ms/step - loss: 0.3881 - accuracy: 0.8947 - val_loss: 0.6210 - val_accuracy: 0.8584\n",
            "Epoch 11/20\n",
            "1651/1651 [==============================] - 16s 10ms/step - loss: 0.3619 - accuracy: 0.9021 - val_loss: 0.6305 - val_accuracy: 0.8625\n",
            "Epoch 11: early stopping\n"
          ]
        },
        {
          "data": {
            "text/plain": [
              "<keras.callbacks.History at 0x7cae6c3b6d10>"
            ]
          },
          "execution_count": 37,
          "metadata": {},
          "output_type": "execute_result"
        }
      ],
      "source": [
        "batch_size=128\n",
        "epochs = 20\n",
        "\n",
        "model.fit(X_train, y_train_cat, batch_size=batch_size, epochs = epochs, shuffle=True,\n",
        "          validation_data=(X_test, y_test_cat), callbacks=[early_stop])"
      ]
    },
    {
      "cell_type": "code",
      "execution_count": null,
      "metadata": {
        "colab": {
          "base_uri": "https://localhost:8080/"
        },
        "id": "pZGfxzEpbjFW",
        "outputId": "e85338bd-ca0c-4cab-ccb1-d0d77a1491c5"
      },
      "outputs": [
        {
          "name": "stdout",
          "output_type": "stream",
          "text": [
            "708/708 [==============================] - 3s 4ms/step - loss: 0.6305 - accuracy: 0.8625\n"
          ]
        },
        {
          "data": {
            "text/plain": [
              "[0.6305405497550964, 0.8624787330627441]"
            ]
          },
          "execution_count": 38,
          "metadata": {},
          "output_type": "execute_result"
        }
      ],
      "source": [
        "model.evaluate(X_test, y_test_cat, batch_size=batch_size)"
      ]
    },
    {
      "cell_type": "code",
      "execution_count": null,
      "metadata": {
        "colab": {
          "base_uri": "https://localhost:8080/"
        },
        "id": "De-nnkcCbjH2",
        "outputId": "b0a8ae36-acd1-4e03-e51d-85d6be8339d1"
      },
      "outputs": [
        {
          "name": "stdout",
          "output_type": "stream",
          "text": [
            "2830/2830 [==============================] - 10s 3ms/step\n"
          ]
        }
      ],
      "source": [
        "y_pred = model.predict(X_test)"
      ]
    },
    {
      "cell_type": "code",
      "execution_count": null,
      "metadata": {
        "colab": {
          "base_uri": "https://localhost:8080/"
        },
        "id": "bfSZTx8YbjLa",
        "outputId": "a7beb5ac-9692-42cd-f001-3bbf64319f41"
      },
      "outputs": [
        {
          "data": {
            "text/plain": [
              "array([[1.6863874e-05, 9.8842452e-07, 3.9446499e-05, ..., 2.7108194e-06,\n",
              "        9.9950385e-01, 3.4926734e-07],\n",
              "       [3.6222080e-03, 2.8028060e-02, 2.0194482e-02, ..., 4.9834237e-02,\n",
              "        7.1559744e-03, 2.3592220e-01],\n",
              "       [6.0872949e-08, 1.1006233e-08, 1.2070819e-06, ..., 1.7106817e-08,\n",
              "        7.7418662e-07, 5.7595737e-09],\n",
              "       ...,\n",
              "       [8.4800789e-08, 4.4293638e-06, 5.9558010e-07, ..., 1.0814522e-06,\n",
              "        1.5740094e-08, 1.3180526e-11],\n",
              "       [1.2629206e-08, 2.9150937e-07, 9.9782628e-01, ..., 2.4403454e-04,\n",
              "        1.2204914e-07, 6.0452421e-10],\n",
              "       [9.7486793e-07, 2.1518308e-07, 3.3630972e-06, ..., 6.0668185e-07,\n",
              "        2.7516694e-07, 7.2870968e-08]], dtype=float32)"
            ]
          },
          "execution_count": 40,
          "metadata": {},
          "output_type": "execute_result"
        }
      ],
      "source": [
        "y_pred"
      ]
    },
    {
      "cell_type": "code",
      "execution_count": null,
      "metadata": {
        "colab": {
          "base_uri": "https://localhost:8080/"
        },
        "id": "bA73qXiMbgrG",
        "outputId": "94893985-8419-4c37-f224-761387f84e0b"
      },
      "outputs": [
        {
          "name": "stdout",
          "output_type": "stream",
          "text": [
            "79.40611886201438 %\n"
          ]
        }
      ],
      "source": [
        "from sklearn.metrics import r2_score\n",
        "print(r2_score(y_test_cat, y_pred)*100,\"%\")"
      ]
    },
    {
      "cell_type": "code",
      "execution_count": null,
      "metadata": {
        "colab": {
          "base_uri": "https://localhost:8080/"
        },
        "id": "CM0BXH3Dpp9V",
        "outputId": "963f2cec-87c2-49bf-aef5-aa680299ec5b"
      },
      "outputs": [
        {
          "data": {
            "text/plain": [
              "array([1.6863874e-05, 9.8842452e-07, 3.9446499e-05, 1.1363002e-06,\n",
              "       4.5484632e-07, 3.9849165e-06, 1.6393554e-06, 1.0456413e-06,\n",
              "       3.4220207e-05, 6.6785440e-05, 1.0005393e-06, 1.4690843e-06,\n",
              "       2.6924323e-07, 2.7509064e-05, 8.8756489e-05, 2.0740261e-04,\n",
              "       1.1153081e-07, 2.7108194e-06, 9.9950385e-01, 3.4926734e-07],\n",
              "      dtype=float32)"
            ]
          },
          "execution_count": 48,
          "metadata": {},
          "output_type": "execute_result"
        }
      ],
      "source": [
        "y_pred[0]"
      ]
    },
    {
      "cell_type": "code",
      "execution_count": null,
      "metadata": {
        "colab": {
          "base_uri": "https://localhost:8080/"
        },
        "id": "1cMPulTFpqhP",
        "outputId": "9189db67-2b7f-4977-be22-151b61f4ef81"
      },
      "outputs": [
        {
          "data": {
            "text/plain": [
              "array([0., 0., 0., 0., 0., 0., 0., 0., 0., 0., 0., 0., 0., 0., 0., 0., 0.,\n",
              "       0., 1., 0.], dtype=float32)"
            ]
          },
          "execution_count": 52,
          "metadata": {},
          "output_type": "execute_result"
        }
      ],
      "source": [
        "y_test_cat[0]"
      ]
    },
    {
      "cell_type": "code",
      "execution_count": null,
      "metadata": {
        "id": "K-e5JxeRpqqu"
      },
      "outputs": [],
      "source": [
        "predicted_labels = np.argmax(y_pred, axis=1)"
      ]
    },
    {
      "cell_type": "markdown",
      "source": [
        "# **Predicting the emoji of X dataset**"
      ],
      "metadata": {
        "id": "vWIYE9iy-MDU"
      }
    },
    {
      "cell_type": "code",
      "execution_count": 71,
      "metadata": {
        "id": "W4KMtlD8bgw5",
        "colab": {
          "base_uri": "https://localhost:8080/"
        },
        "outputId": "567c8b0d-e5c5-4b34-de52-4352695cfa37"
      },
      "outputs": [
        {
          "output_type": "stream",
          "name": "stdout",
          "text": [
            "9432/9432 [==============================] - 32s 3ms/step\n"
          ]
        }
      ],
      "source": [
        "emoji_pred = model.predict(X_seqs_pd)\n",
        "predictions = np.argmax(emoji_pred, axis = 1)\n"
      ]
    },
    {
      "cell_type": "code",
      "execution_count": 72,
      "metadata": {
        "colab": {
          "base_uri": "https://localhost:8080/"
        },
        "id": "6EpdxZx303jz",
        "outputId": "2c83747f-e8bc-4e47-c0cc-313d0d376978"
      },
      "outputs": [
        {
          "output_type": "stream",
          "name": "stdout",
          "text": [
            "Accuracy: 90.86%\n"
          ]
        }
      ],
      "source": [
        "# Calculate the total number of samples in the dataset\n",
        "total_samples = len(y)\n",
        "\n",
        "# Compare predicted labels with true labels and count the number of correct predictions\n",
        "correct_predictions = np.sum(predictions == y)\n",
        "\n",
        "# Calculate accuracy as the ratio of correct predictions to the total number of samples\n",
        "accuracy = correct_predictions / total_samples\n",
        "\n",
        "# Convert the accuracy to percentage\n",
        "accuracy_percentage = accuracy * 100\n",
        "\n",
        "print(f\"Accuracy: {accuracy_percentage:.2f}%\")\n"
      ]
    },
    {
      "cell_type": "code",
      "source": [
        "for i in range(len(X[:20])):\n",
        "  actual = y[i]\n",
        "  predicted = predictions[i]\n",
        "  txt = X[i]\n",
        "  print(\"Text: \",txt)\n",
        "  print(f\"Label predicted: {emoji_data[predicted]} {predicted}, , Label Actual: {emoji_data[actual]}, {actual}\")\n",
        "  print(\"\\n\")\n"
      ],
      "metadata": {
        "colab": {
          "base_uri": "https://localhost:8080/"
        },
        "id": "HEIXFLTl6eTi",
        "outputId": "872adf7b-7dee-4265-fb04-f3fbafe759f6"
      },
      "execution_count": 80,
      "outputs": [
        {
          "output_type": "stream",
          "name": "stdout",
          "text": [
            "Text:  vacation wasted   vacation photobomb tired vacationwasted mcgar miami   port \n",
            "\n",
            "Label predicted: 😜 0, , Label Actual: 😜, 0\n",
            "\n",
            "\n",
            "Text:  oh wynwood funny    wynwood art itwasam flower vibe   wynwood \n",
            "\n",
            "Label predicted: 📸 1, , Label Actual: 📸, 1\n",
            "\n",
            "\n",
            "Text:  friend th grade look following dream love … \n",
            "\n",
            "Label predicted: 💕 15, , Label Actual: 😍, 2\n",
            "\n",
            "\n",
            "Text:  look like love unconditionally oh puppy brother htx \n",
            "\n",
            "Label predicted: 😂 3, , Label Actual: 😂, 3\n",
            "\n",
            "\n",
            "Text:  rt   white family invited black barbecue ve laughed hard life \n",
            "\n",
            "Label predicted: 😂 3, , Label Actual: 😂, 3\n",
            "\n",
            "\n",
            "Text:  track season   m ready ya   university incarnate word \n",
            "\n",
            "Label predicted: 😉 4, , Label Actual: 😉, 4\n",
            "\n",
            "\n",
            "Text:  merry christmas filthy little animal wearing   ugly sweater featuring santa … \n",
            "\n",
            "Label predicted: 🎄 5, , Label Actual: 🎄, 5\n",
            "\n",
            "\n",
            "Text:  westenders   lazznation   weston toronto \n",
            "\n",
            "Label predicted: 📷 6, , Label Actual: 📷, 6\n",
            "\n",
            "\n",
            "Text:  maxwell head home   summa akron city hospital \n",
            "\n",
            "Label predicted: 💯 19, , Label Actual: 😍, 2\n",
            "\n",
            "\n",
            "Text:  story saturday   collins ave miami beach fl   lady contact join … \n",
            "\n",
            "Label predicted: 🔥 7, , Label Actual: 🔥, 7\n",
            "\n",
            "\n",
            "Text:  love dog human   north gate \n",
            "\n",
            "Label predicted: 😘 8, , Label Actual: 😘, 8\n",
            "\n",
            "\n",
            "Text:  dragged loving husband live episode hellofromthemagictavern ️   javits center \n",
            "\n",
            "Label predicted: ❤ 9, , Label Actual: ❤, 9\n",
            "\n",
            "\n",
            "Text:  nt wait meet   wscatlanta wscatlanta znation addy   georgia \n",
            "\n",
            "Label predicted: 😁 10, , Label Actual: 😁, 10\n",
            "\n",
            "\n",
            "Text:  happy th y   sausalito california \n",
            "\n",
            "Label predicted: 🇺🇸 11, , Label Actual: 🇺🇸, 11\n",
            "\n",
            "\n",
            "Text:  socialbutterflies hanging   beautyschool ️ halloween day follow journey \n",
            "\n",
            "Label predicted: ☀ 12, , Label Actual: ☀, 12\n",
            "\n",
            "\n",
            "Text:  washingtondc   abraham lincoln memorial \n",
            "\n",
            "Label predicted: 🇺🇸 11, , Label Actual: 🇺🇸, 11\n",
            "\n",
            "\n",
            "Text:  h o m e km   mi flight hour flying time mealsand \n",
            "\n",
            "Label predicted: ✨ 13, , Label Actual: ✨, 13\n",
            "\n",
            "\n",
            "Text:  aladdinsf shining shimmering splendid talented cast   shn broadway san … \n",
            "\n",
            "Label predicted: 😍 2, , Label Actual: 😍, 2\n",
            "\n",
            "\n",
            "Text:  california day ️sandiego california visitcalifornia nofilter pachamama \n",
            "\n",
            "Label predicted: ☀ 12, , Label Actual: ☀, 12\n",
            "\n",
            "\n",
            "Text:  ️family ️   wetnwild la vega \n",
            "\n",
            "Label predicted: ❤ 9, , Label Actual: ❤, 9\n",
            "\n",
            "\n"
          ]
        }
      ]
    }
  ],
  "metadata": {
    "accelerator": "GPU",
    "colab": {
      "provenance": [],
      "mount_file_id": "18qMiiLrRn_PxzUNM2ic_BCkoC5zuRwlu",
      "authorship_tag": "ABX9TyP/TTR8QSc7JR48Tqp1Btt0",
      "include_colab_link": true
    },
    "kernelspec": {
      "display_name": "Python 3",
      "name": "python3"
    },
    "language_info": {
      "name": "python"
    }
  },
  "nbformat": 4,
  "nbformat_minor": 0
}
